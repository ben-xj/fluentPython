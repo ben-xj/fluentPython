{
 "cells": [
  {
   "cell_type": "markdown",
   "metadata": {},
   "source": [
    "# Python排序"
   ]
  },
  {
   "cell_type": "code",
   "execution_count": 1,
   "metadata": {},
   "outputs": [
    {
     "name": "stdout",
     "output_type": "stream",
     "text": [
      "[1, 2, 3]\n"
     ]
    }
   ],
   "source": [
    "nums = [3, 1, 2]\n",
    "nums.sort() \n",
    "print(nums) # [1, 2, 3]"
   ]
  },
  {
   "cell_type": "code",
   "execution_count": 3,
   "metadata": {},
   "outputs": [
    {
     "name": "stdout",
     "output_type": "stream",
     "text": [
      "[3, 1, -2]\n",
      "[1, -2, 3]\n"
     ]
    }
   ],
   "source": [
    "nums = [3, -2, 1]\n",
    "\n",
    "nums.sort(reverse=True)\n",
    "print(nums)  # [3, 1, -2] 倒序\n",
    "\n",
    "nums.sort(key=abs)\n",
    "print(nums)  # [1,-2, 3] 根据绝对值排序\n"
   ]
  },
  {
   "cell_type": "code",
   "execution_count": 4,
   "metadata": {},
   "outputs": [
    {
     "name": "stdout",
     "output_type": "stream",
     "text": [
      "['Bob', 'John', 'Alice']\n"
     ]
    }
   ],
   "source": [
    "from dataclasses import dataclass\n",
    "\n",
    "@dataclass\n",
    "class User:\n",
    "    name: str\n",
    "    age: int\n",
    "   \n",
    "\n",
    "users = [\n",
    "    User('John', 25),\n",
    "    User('Alice', 25),\n",
    "    User('Bob', 24)\n",
    "]\n",
    "\n",
    "# 原始顺序为 John, Alice, Bob\n",
    "\n",
    "users.sort(key=lambda x: x.age) \n",
    "\n",
    "print([u.name for u in users])\n",
    "\n",
    "# 结果可能为:\n",
    "# ['Bob', 'John', 'Alice']\n",
    "# 或者\n",
    "# ['Bob', 'Alice', 'John']\n"
   ]
  },
  {
   "cell_type": "code",
   "execution_count": 5,
   "metadata": {},
   "outputs": [
    {
     "name": "stdout",
     "output_type": "stream",
     "text": [
      "[1, 2, 3]\n",
      "[3, 1, 2]\n"
     ]
    }
   ],
   "source": [
    "nums = [3, 1, 2]  \n",
    "new_nums = sorted(nums)\n",
    "\n",
    "print(new_nums) # [1, 2, 3]\n",
    "print(nums) # [3, 1, 2] 没变"
   ]
  },
  {
   "cell_type": "code",
   "execution_count": 6,
   "metadata": {},
   "outputs": [
    {
     "name": "stdout",
     "output_type": "stream",
     "text": [
      "[3, 2, 1]\n",
      "[1, 2, 3]\n"
     ]
    }
   ],
   "source": [
    "new_nums = sorted(nums, reverse=True) # 倒序\n",
    "print(new_nums) # [3, 2, 1]\n",
    "\n",
    "new_nums = sorted(nums, key=str) # 按字符串排序\n",
    "print(new_nums) # [1, 2, 3]\n"
   ]
  },
  {
   "cell_type": "code",
   "execution_count": 7,
   "metadata": {},
   "outputs": [
    {
     "name": "stdout",
     "output_type": "stream",
     "text": [
      "[{'age': 15, 'name': 'John'},\n",
      " {'age': 20, 'name': 'John'},\n",
      " {'age': 25, 'name': 'Lisa'}]\n"
     ]
    }
   ],
   "source": [
    "from pprint import pprint\n",
    "\n",
    "users = [{'name':'John', 'age':20}, \n",
    "         {'name':'John', 'age':15},\n",
    "         {'name':'Lisa', 'age':25}]\n",
    "\n",
    "# 根据年龄排序\n",
    "by_age = sorted(users, key=lambda u: u['age']) \n",
    "\n",
    "# 再根据名字排序\n",
    "by_age_name = sorted(by_age, key=lambda u: u['name'])\n",
    "\n",
    "pprint(by_age_name)\n",
    "\n",
    "# ------------- Result -----------\n",
    "# [{'age': 15, 'name': 'John'},\n",
    "#  {'age': 20, 'name': 'John'},\n",
    "#  {'age': 25, 'name': 'Lisa'}]\n"
   ]
  },
  {
   "cell_type": "code",
   "execution_count": 8,
   "metadata": {},
   "outputs": [
    {
     "data": {
      "text/plain": [
       "[{'name': 'John', 'age': 15},\n",
       " {'name': 'John', 'age': 20},\n",
       " {'name': 'Lisa', 'age': 25}]"
      ]
     },
     "execution_count": 8,
     "metadata": {},
     "output_type": "execute_result"
    }
   ],
   "source": [
    "\n",
    "from operator import itemgetter\n",
    "\n",
    "users = [{'name':'John', 'age':20}, \n",
    "         {'name':'John', 'age':15},\n",
    "         {'name':'Lisa', 'age':25}]\n",
    "# 根据字典中的 name 排序\n",
    "sorted(users, key=itemgetter('name', 'age')) \n"
   ]
  },
  {
   "cell_type": "code",
   "execution_count": 9,
   "metadata": {},
   "outputs": [
    {
     "name": "stdout",
     "output_type": "stream",
     "text": [
      "[User(name='Bob', age=24),\n",
      " User(name='John', age=25),\n",
      " User(name='Alice', age=25)]\n"
     ]
    }
   ],
   "source": [
    "from operator import attrgetter\n",
    "from pprint import pprint\n",
    "\n",
    "users = [\n",
    "    User('John', 25),\n",
    "    User('Alice', 25),\n",
    "    User('Bob', 24)\n",
    "]\n",
    "\n",
    "# 根据年龄属性排序 \n",
    "by_age = sorted(users, key=attrgetter('age'))\n",
    "pprint(by_age)\n"
   ]
  },
  {
   "cell_type": "code",
   "execution_count": 10,
   "metadata": {},
   "outputs": [
    {
     "name": "stdout",
     "output_type": "stream",
     "text": [
      "Using lambda: 0.059886 seconds\n",
      "Using attrgetter: 0.046491 seconds\n"
     ]
    }
   ],
   "source": [
    "import timeit\n",
    "\n",
    "class Person:\n",
    "    def __init__(self, name, age):\n",
    "        self.name = name\n",
    "        self.age = age\n",
    "\n",
    "people = [\n",
    "    Person(\"Diana\", 40),\n",
    "    Person(\"Frank\", 45),\n",
    "    Person(\"Alice\", 30),\n",
    "    Person(\"Bob\", 25),\n",
    "    Person(\"Charlie\", 35),\n",
    "    Person(\"Eve\", 20)\n",
    "]\n",
    "\n",
    "# Using lambda function to sort by 'age'\n",
    "lambda_time = timeit.timeit(\n",
    "    stmt=\"sorted(people, key=lambda person: person.age)\",\n",
    "    setup=\"from __main__ import people\",\n",
    "    number=100000\n",
    ")\n",
    "\n",
    "# Using attrgetter to sort by 'age'\n",
    "attrgetter_time = timeit.timeit(\n",
    "    stmt=\"sorted(people, key=attrgetter('age'))\",\n",
    "    setup=\"from __main__ import people; from operator import attrgetter\",\n",
    "    number=100000\n",
    ")\n",
    "\n",
    "print(f\"Using lambda: {lambda_time:.6f} seconds\")\n",
    "print(f\"Using attrgetter: {attrgetter_time:.6f} seconds\")\n",
    "\n",
    "# Using lambda: 0.055244 seconds\n",
    "# Using attrgetter: 0.047022 seconds\n"
   ]
  }
 ],
 "metadata": {
  "kernelspec": {
   "display_name": "fluentpy",
   "language": "python",
   "name": "python3"
  },
  "language_info": {
   "codemirror_mode": {
    "name": "ipython",
    "version": 3
   },
   "file_extension": ".py",
   "mimetype": "text/x-python",
   "name": "python",
   "nbconvert_exporter": "python",
   "pygments_lexer": "ipython3",
   "version": "3.10.12"
  },
  "orig_nbformat": 4
 },
 "nbformat": 4,
 "nbformat_minor": 2
}
